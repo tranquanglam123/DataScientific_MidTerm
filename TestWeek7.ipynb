{
 "cells": [
  {
   "cell_type": "code",
   "execution_count": 58,
   "id": "6e1555f1",
   "metadata": {},
   "outputs": [],
   "source": [
    "import numpy as np\n",
    "import pandas as pd"
   ]
  },
  {
   "cell_type": "code",
   "execution_count": 59,
   "id": "3d03422b",
   "metadata": {},
   "outputs": [],
   "source": [
    "import matplotlib.pyplot as plt\n"
   ]
  },
  {
   "cell_type": "code",
   "execution_count": 60,
   "id": "1aa0064f",
   "metadata": {},
   "outputs": [
    {
     "name": "stdout",
     "output_type": "stream",
     "text": [
      "                   index                  labels  Follow-up #  Patient ID  \\\n",
      "0       00000001_000.png            Cardiomegaly            0           1   \n",
      "1       00000001_001.png  Cardiomegaly|Emphysema            1           1   \n",
      "2       00000001_002.png   Cardiomegaly|Effusion            2           1   \n",
      "3       00000002_000.png              No Finding            0           2   \n",
      "4       00000003_000.png                  Hernia            0           3   \n",
      "...                  ...                     ...          ...         ...   \n",
      "112115  00030801_001.png          Mass|Pneumonia            1       30801   \n",
      "112116  00030802_000.png              No Finding            0       30802   \n",
      "112117  00030803_000.png              No Finding            0       30803   \n",
      "112118  00030804_000.png              No Finding            0       30804   \n",
      "112119  00030805_000.png              No Finding            0       30805   \n",
      "\n",
      "        Patient Age Patient Gender View Position  OriginalImage[Width  \\\n",
      "0                58              M            PA                 2682   \n",
      "1                58              M            PA                 2894   \n",
      "2                58              M            PA                 2500   \n",
      "3                81              M            PA                 2500   \n",
      "4                81              F            PA                 2582   \n",
      "...             ...            ...           ...                  ...   \n",
      "112115           39              M            PA                 2048   \n",
      "112116           29              M            PA                 2048   \n",
      "112117           42              F            PA                 2048   \n",
      "112118           30              F            PA                 2048   \n",
      "112119           27              M            PA                 2048   \n",
      "\n",
      "        Height]  OriginalImagePixelSpacing[x     y]  Unnamed: 11  \n",
      "0          2749                        0.143  0.143          NaN  \n",
      "1          2729                        0.143  0.143          NaN  \n",
      "2          2048                        0.168  0.168          NaN  \n",
      "3          2048                        0.171  0.171          NaN  \n",
      "4          2991                        0.143  0.143          NaN  \n",
      "...         ...                          ...    ...          ...  \n",
      "112115     2500                        0.168  0.168          NaN  \n",
      "112116     2500                        0.168  0.168          NaN  \n",
      "112117     2500                        0.168  0.168          NaN  \n",
      "112118     2500                        0.168  0.168          NaN  \n",
      "112119     2500                        0.171  0.171          NaN  \n",
      "\n",
      "[112120 rows x 12 columns]\n"
     ]
    }
   ],
   "source": [
    "ill=pd.read_csv('PythonDataAnalysis/PythonDataAnalysis/chest14/Data_Entry_2017.csv')\n",
    "ill.rename(columns={'Image Index': 'index', 'Finding Labels': 'labels'}, inplace=True)\n",
    "print(ill)"
   ]
  },
  {
   "cell_type": "markdown",
   "id": "ef766dca",
   "metadata": {},
   "source": [
    "### Dataset chest14: ills\n"
   ]
  },
  {
   "cell_type": "code",
   "execution_count": 53,
   "id": "6c1c3ff6",
   "metadata": {},
   "outputs": [
    {
     "name": "stdout",
     "output_type": "stream",
     "text": [
      "['Cardiomegaly', 'Emphysema', 'Effusion', 'No Finding', 'Hernia', 'Infiltration', 'Mass', 'Nodule', 'Atelectasis', 'Pneumothorax', 'Pleural Thickening', 'Pneumonia', 'Fibrosis', 'Edema', 'Consolidation']\n"
     ]
    }
   ],
   "source": [
    "all_ills=[]\n",
    "for x in ill.labels:\n",
    "    all_ills.extend(x.split('|'))\n",
    "ills = pd.unique(all_ills)\n",
    "ills1=[]\n",
    "for x in ills:\n",
    "    i=str(x)\n",
    "    a=i.replace(\"_\",\" \")\n",
    "    ills1.append(a)\n",
    "ills=ills1\n",
    "print(ills)"
   ]
  },
  {
   "cell_type": "markdown",
   "id": "1ddc8f01",
   "metadata": {},
   "source": [
    "### Dataset cheatExpert: ill21"
   ]
  },
  {
   "cell_type": "code",
   "execution_count": 47,
   "id": "0feb87e3",
   "metadata": {},
   "outputs": [
    {
     "name": "stdout",
     "output_type": "stream",
     "text": [
      "['No Finding', 'Enlarged Cardiomediastinum', 'Cardiomegaly', 'Lung Opacity', 'Lung Lesion', 'Edema', 'Consolidation', 'Pneumonia', 'Atelectasis', 'Pneumothorax', 'Pleural Effusion', 'Pleural Other', 'Fracture']\n"
     ]
    }
   ],
   "source": [
    "ill2=pd.read_csv('PythonDataAnalysis/PythonDataAnalysis/chestExpert/valid.csv')\n",
    "ill21=[]\n",
    "for x in ill2:\n",
    "    ill21.append(x)\n",
    "ill21=ill21[5:-1]\n",
    "print(ill21)\n",
    "    "
   ]
  },
  {
   "cell_type": "markdown",
   "id": "7dfb8f9b",
   "metadata": {},
   "source": [
    "### Dataset cheatVINDATA: genres"
   ]
  },
  {
   "cell_type": "code",
   "execution_count": 48,
   "id": "8fd6d105",
   "metadata": {},
   "outputs": [
    {
     "name": "stdout",
     "output_type": "stream",
     "text": [
      "['No finding' 'Cardiomegaly' 'Aortic enlargement' 'Pleural thickening'\n",
      " 'ILD' 'Nodule/Mass' 'Pulmonary fibrosis' 'Lung Opacity' 'Atelectasis'\n",
      " 'Other lesion' 'Infiltration' 'Pleural effusion' 'Calcification'\n",
      " 'Consolidation' 'Pneumothorax']\n"
     ]
    }
   ],
   "source": [
    "df = pd.read_csv('PythonDataAnalysis/PythonDataAnalysis/ChestVINDATA/train.csv',header=0)\n",
    "all_genres = []\n",
    "for x in df.class_name:\n",
    "    all_genres.extend(x.split('|'))\n",
    "genres = pd.unique(all_genres)\n",
    "print(genres)\n"
   ]
  },
  {
   "cell_type": "code",
   "execution_count": 61,
   "id": "5c5a9e69",
   "metadata": {},
   "outputs": [
    {
     "name": "stdout",
     "output_type": "stream",
     "text": [
      "['No Finding', 'Cardiomegaly', 'Aortic Enlargement', 'Pleural Thickening', 'Ild', 'Nodule/Mass', 'Pulmonary Fibrosis', 'Lung Opacity', 'Atelectasis', 'Other Lesion', 'Infiltration', 'Pleural Effusion', 'Calcification', 'Consolidation', 'Pneumothorax']\n"
     ]
    }
   ],
   "source": [
    "genres2=[]\n",
    "for x in genres:\n",
    "    i= str(x.title())\n",
    "    genres2.append(i)\n",
    "genres=genres2\n",
    "print(genres)"
   ]
  },
  {
   "cell_type": "markdown",
   "id": "d333b623",
   "metadata": {},
   "source": [
    "### Combining 3 dataset ills: FinalIlls"
   ]
  },
  {
   "cell_type": "code",
   "execution_count": 64,
   "id": "8b1ef1e6",
   "metadata": {},
   "outputs": [
    {
     "name": "stdout",
     "output_type": "stream",
     "text": [
      "['No Finding' 'Enlarged Cardiomediastinum' 'Cardiomegaly' 'Lung Opacity'\n",
      " 'Lung Lesion' 'Edema' 'Consolidation' 'Pneumonia' 'Atelectasis'\n",
      " 'Pneumothorax' 'Pleural Effusion' 'Pleural Other' 'Fracture' 'Emphysema'\n",
      " 'Effusion' 'Hernia' 'Infiltration' 'Mass' 'Nodule' 'Pleural Thickening'\n",
      " 'Fibrosis' 'Aortic Enlargement' 'Ild' 'Nodule/Mass' 'Pulmonary Fibrosis'\n",
      " 'Other Lesion' 'Calcification']\n"
     ]
    }
   ],
   "source": [
    "for x in ills:\n",
    "    ill21.append(x)\n",
    "for x in genres:\n",
    "    ill21.append(x)\n",
    "ill3=pd.unique(ill21)\n",
    "print(ill3)\n",
    "#TotalIlls=[]\n",
    "#for i in ill3:\n",
    "#    TotalIlls.append(i.title())\n",
    "#FinalIlls=set(TotalIlls)\n"
   ]
  },
  {
   "cell_type": "markdown",
   "id": "940f6642",
   "metadata": {},
   "source": [
    "### Bài 2: tạo dataframe mới\n"
   ]
  },
  {
   "cell_type": "code",
   "execution_count": 52,
   "id": "d01a30c0",
   "metadata": {},
   "outputs": [
    {
     "name": "stdout",
     "output_type": "stream",
     "text": [
      "        No Finding  Enlarged Cardiomediastinum  Cardiomegaly  Lung Opacity  \\\n",
      "0              0.0                         0.0           0.0           0.0   \n",
      "1              0.0                         0.0           0.0           0.0   \n",
      "2              0.0                         0.0           0.0           0.0   \n",
      "3              0.0                         0.0           0.0           0.0   \n",
      "4              0.0                         0.0           0.0           0.0   \n",
      "...            ...                         ...           ...           ...   \n",
      "112115         0.0                         0.0           0.0           0.0   \n",
      "112116         0.0                         0.0           0.0           0.0   \n",
      "112117         0.0                         0.0           0.0           0.0   \n",
      "112118         0.0                         0.0           0.0           0.0   \n",
      "112119         0.0                         0.0           0.0           0.0   \n",
      "\n",
      "        Lung Lesion  Edema  Consolidation  Pneumonia  Atelectasis  \\\n",
      "0               0.0    0.0            0.0        0.0          0.0   \n",
      "1               0.0    0.0            0.0        0.0          0.0   \n",
      "2               0.0    0.0            0.0        0.0          0.0   \n",
      "3               0.0    0.0            0.0        0.0          0.0   \n",
      "4               0.0    0.0            0.0        0.0          0.0   \n",
      "...             ...    ...            ...        ...          ...   \n",
      "112115          0.0    0.0            0.0        0.0          0.0   \n",
      "112116          0.0    0.0            0.0        0.0          0.0   \n",
      "112117          0.0    0.0            0.0        0.0          0.0   \n",
      "112118          0.0    0.0            0.0        0.0          0.0   \n",
      "112119          0.0    0.0            0.0        0.0          0.0   \n",
      "\n",
      "        Pneumothorax  ...  Mass  Nodule  Pleural Thickening  Fibrosis  \\\n",
      "0                0.0  ...   0.0     0.0                 0.0       0.0   \n",
      "1                0.0  ...   0.0     0.0                 0.0       0.0   \n",
      "2                0.0  ...   0.0     0.0                 0.0       0.0   \n",
      "3                0.0  ...   0.0     0.0                 0.0       0.0   \n",
      "4                0.0  ...   0.0     0.0                 0.0       0.0   \n",
      "...              ...  ...   ...     ...                 ...       ...   \n",
      "112115           0.0  ...   0.0     0.0                 0.0       0.0   \n",
      "112116           0.0  ...   0.0     0.0                 0.0       0.0   \n",
      "112117           0.0  ...   0.0     0.0                 0.0       0.0   \n",
      "112118           0.0  ...   0.0     0.0                 0.0       0.0   \n",
      "112119           0.0  ...   0.0     0.0                 0.0       0.0   \n",
      "\n",
      "        Aortic Enlargement  Ild  Nodule/Mass  Pulmonary Fibrosis  \\\n",
      "0                      0.0  0.0          0.0                 0.0   \n",
      "1                      0.0  0.0          0.0                 0.0   \n",
      "2                      0.0  0.0          0.0                 0.0   \n",
      "3                      0.0  0.0          0.0                 0.0   \n",
      "4                      0.0  0.0          0.0                 0.0   \n",
      "...                    ...  ...          ...                 ...   \n",
      "112115                 0.0  0.0          0.0                 0.0   \n",
      "112116                 0.0  0.0          0.0                 0.0   \n",
      "112117                 0.0  0.0          0.0                 0.0   \n",
      "112118                 0.0  0.0          0.0                 0.0   \n",
      "112119                 0.0  0.0          0.0                 0.0   \n",
      "\n",
      "        Other Lesion  Calcification  \n",
      "0                0.0            0.0  \n",
      "1                0.0            0.0  \n",
      "2                0.0            0.0  \n",
      "3                0.0            0.0  \n",
      "4                0.0            0.0  \n",
      "...              ...            ...  \n",
      "112115           0.0            0.0  \n",
      "112116           0.0            0.0  \n",
      "112117           0.0            0.0  \n",
      "112118           0.0            0.0  \n",
      "112119           0.0            0.0  \n",
      "\n",
      "[112120 rows x 27 columns]\n"
     ]
    }
   ],
   "source": [
    "zero_matrix = np.zeros((len(ill), len(ill3)))\n",
    "\n",
    "dummies = pd.DataFrame(zero_matrix, columns=ill3)\n",
    "print(dummies)"
   ]
  },
  {
   "cell_type": "code",
   "execution_count": null,
   "id": "06e71c49",
   "metadata": {},
   "outputs": [],
   "source": []
  }
 ],
 "metadata": {
  "kernelspec": {
   "display_name": "Python 3 (ipykernel)",
   "language": "python",
   "name": "python3"
  },
  "language_info": {
   "codemirror_mode": {
    "name": "ipython",
    "version": 3
   },
   "file_extension": ".py",
   "mimetype": "text/x-python",
   "name": "python",
   "nbconvert_exporter": "python",
   "pygments_lexer": "ipython3",
   "version": "3.9.12"
  }
 },
 "nbformat": 4,
 "nbformat_minor": 5
}
